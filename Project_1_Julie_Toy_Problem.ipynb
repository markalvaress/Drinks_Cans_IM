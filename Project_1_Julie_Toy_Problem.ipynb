{
 "cells": [
  {
   "cell_type": "markdown",
   "id": "3e16f6b3",
   "metadata": {},
   "source": [
    "This is backward Euler with a sink term. First we set up all of our conditions, coefficients, etc."
   ]
  },
  {
   "cell_type": "code",
   "execution_count": 43,
   "id": "4b2a028b",
   "metadata": {},
   "outputs": [],
   "source": [
    "import numpy as np\n",
    "import matplotlib.pyplot as plt\n",
    "import matplotlib.animation\n",
    "%matplotlib inline\n",
    "\n",
    "# Boundary conditions\n",
    "b0 = 150  # u(0,t)= b0\n",
    "bL = 20   # u(L,t)= bL\n",
    "a = 0 # heat transfer coefficient - along sides of can (for sink term)\n",
    "D = 0.5 # thermal diffusivity coefficient - in the liquid\n",
    "u_inf = bL # air temp\n",
    "\n",
    "# Set parameters\n",
    "Nt_gaps = 2000    # number of timesteps\n",
    "T = 1              # final time \n",
    "Nt_points = Nt_gaps + 1\n",
    "t = np.linspace(0.,T,Nt_points)  # times at each time step\n",
    "\n",
    "Nx_spaces = 100   # number of spaces in x\n",
    "L = 3 # Length of the can, 1 for now, will need to be changed but this will affect the exact solution as well\n",
    "Nx_points = Nx_spaces + 1 \n",
    "x = np.linspace(0, L, Nx_points)    # mesh points in space\n",
    "\n",
    "dx = x[1] - x[0] \n",
    "dt = t[1] - t[0]\n",
    "\n",
    "C = D*dt/(dx**2) # note: multiplying by thermal diff coeff now!\n",
    "\n",
    "# Initialize output\n",
    "\n",
    "# Define the numerical solution \n",
    "# the first index is space and the second time\n",
    "U = np.zeros((Nx_points,Nt_points))\n",
    "\n",
    "# Set initial conditions (we use u_old to make our loop look nicer below)\n",
    "u_old = np.zeros(Nx_points)\n",
    "u_old[0] = b0\n",
    "u_old[1:] = bL*np.ones(Nx_points-1)\n",
    "U[:,0] = u_old[:]\n",
    "\n",
    "# Data structures for the linear system: This will be used as AU_{t+1} = U_t (where U_t is b here) in the simulation\n",
    "A = np.zeros((Nx_points, Nx_points))\n",
    "b = np.zeros(Nx_points)\n",
    "\n",
    "# This is from lectures\n",
    "for i in range(1, Nx_points-1):\n",
    "    A[i,i-1] = -C\n",
    "    A[i,i+1] = -C\n",
    "    A[i,i] = 1 + 2*C\n",
    "    \n",
    "# implement the (constant-in-time) Dirichlet conditions (i.e. the end points never change temp, U(0, t+dt) = U(0, t), same at x=1)\n",
    "A[0,0] = 1 # NB: USE SCIPY SPARSE MATRIX FOR THIS\n",
    "A[Nx_points-1,Nx_points-1] = 1"
   ]
  },
  {
   "cell_type": "markdown",
   "id": "a462a3fe",
   "metadata": {},
   "source": [
    "Then we run the simulation. Easy!"
   ]
  },
  {
   "cell_type": "code",
   "execution_count": 44,
   "id": "a6625e67",
   "metadata": {},
   "outputs": [],
   "source": [
    "# do timestepping (i.e. run simulation)\n",
    "for n in range(1, Nt_points):\n",
    "    b = u_old\n",
    "\n",
    "    # update u by solving the matrix system Au = b\n",
    "    u_new = np.linalg.solve(A,b) \n",
    "    u_new[1:Nx_points-1] -= a*(u_old[1:Nx_points-1] - u_inf) # I have done this because I don't want to subtract this from the end points, since the sink term does not apply there (endpoints are at a constant temp)\n",
    "    \n",
    "    # Update u_old before next step\n",
    "    u_old = u_new\n",
    "    U[:,n] = u_new"
   ]
  },
  {
   "cell_type": "code",
   "execution_count": 45,
   "id": "33c432f4",
   "metadata": {},
   "outputs": [],
   "source": [
    "def U_analyt(x, t):\n",
    "    \"\"\"x can be a 1-d array\"\"\"\n",
    "    u_d = b0 - bL\n",
    "\n",
    "    sol = b0 - u_d*(x / L)\n",
    "    for n in range(1,200):\n",
    "        sol -= 2*u_d/(n*np.pi) * np.sin(n*np.pi*x/L) * np.exp(-(n*np.pi/L)**2 * D * t)\n",
    "\n",
    "    return sol"
   ]
  },
  {
   "cell_type": "markdown",
   "id": "97ba094d",
   "metadata": {},
   "source": [
    "Now we can plot our result for a given time t. You can vary t to see how the temperature distribution looks at various times."
   ]
  },
  {
   "cell_type": "code",
   "execution_count": 46,
   "id": "8cc9bff4",
   "metadata": {},
   "outputs": [
    {
     "data": {
      "image/png": "[encoded data removed]",
      "text/plain": [
       "<Figure size 640x480 with 1 Axes>"
      ]
     },
     "metadata": {},
     "output_type": "display_data"
    }
   ],
   "source": [
    "# Plot our numeric U(x,t) at some given time t (note, t is in 1/Nt_points seconds, i.e. U[:, Nt_points] is the solution at time t=1)\n",
    "t = Nt_points//20\n",
    "plt.plot(x, U[:, t], \"-\", label = \"numeric sol\")\n",
    "plt.plot(x, U_analyt(x, t/Nt_points), \".\", label = \"analyt sol\")\n",
    "\n",
    "plt.legend()\n",
    "plt.show()"
   ]
  }
 ],
 "metadata": {
  "kernelspec": {
   "display_name": "Python 3",
   "language": "python",
   "name": "python3"
  },
  "language_info": {
   "codemirror_mode": {
    "name": "ipython",
    "version": 3
   },
   "file_extension": ".py",
   "mimetype": "text/x-python",
   "name": "python",
   "nbconvert_exporter": "python",
   "pygments_lexer": "ipython3",
   "version": "3.11.4"
  }
 },
 "nbformat": 4,
 "nbformat_minor": 5
}
